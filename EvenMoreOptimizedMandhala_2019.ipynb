{
 "cells": [
  {
   "cell_type": "code",
   "execution_count": 1,
   "metadata": {
    "collapsed": true
   },
   "outputs": [],
   "source": [
    "import numpy as np\n",
    "from itertools import permutations\n",
    "import matplotlib.pyplot as plt"
   ]
  },
  {
   "cell_type": "markdown",
   "metadata": {},
   "source": [
    "**Purpose of this notebook**\n",
    "\n",
    "To optimize placement of magnets such that the cross-sectional area of the volume we are imaging is as homogeneous as possible."
   ]
  },
  {
   "cell_type": "code",
   "execution_count": 2,
   "metadata": {
    "collapsed": true
   },
   "outputs": [],
   "source": [
    "N = 8 #Input number of spaces in NMR Mandhala to optimize\n",
    "numMagnets = 8 #Input number of magnets to choose from\n",
    "R = 0.0145 #Input radius of NMR Mandhala to optimize in meters\n",
    "#R measured from center of Mandhala to center of magnets\n",
    "V = (0.25**2*1)*(0.025**3) #Volume of each magnet in meters^3\n",
    "\n",
    "numPoints = 10 #Input number of test points around center to check homogeneity\n",
    "frac = 0.10 #Input fraction of R to use as radius of circle over which test points will be spread evenly\n",
    "\n",
    "# Input surface magnetic field values (in Telsa)\n",
    "#for each of the N magnets to be placed in Mandhala\n",
    "magnets = np.empty(numMagnets)\n",
    "magnets[0] = 0.41\n",
    "magnets[1] = 0.42\n",
    "magnets[2] = 0.41\n",
    "magnets[3] = 0.41\n",
    "magnets[4] = 0.40\n",
    "magnets[5] = 0.42\n",
    "magnets[6] = 0.42\n",
    "magnets[7] = 0.41"
   ]
  },
  {
   "cell_type": "markdown",
   "metadata": {},
   "source": [
    "**Cell below sets up the particular MANDHALA geometry**\n",
    "\n",
    "`N` magnets arranged around circumference of circle of radius `R`\n",
    "\n",
    "`alpha` is the angle from the positive z-axis to the center of each magnet\n",
    "\n",
    "`beta` is the angle from the positive z-axis of the magnetic dipole orientation of each magnet\n",
    "\n",
    "`gamma` is the angle from the positive z-axis to each test point\n",
    "\n",
    "`n0` is a 2D array that gives the normalized position vector of the ith magnet\n",
    "\n",
    "`P` is a 2D array that gives the position vector of each test point"
   ]
  },
  {
   "cell_type": "code",
   "execution_count": 3,
   "metadata": {
    "collapsed": true
   },
   "outputs": [],
   "source": [
    "# DEFINING THE ANGLE ARRAYS\n",
    "#alpha is an array and alpha[n] gives the angle measured\n",
    "#from center of first magnet to the center of nth magnet\n",
    "#going clockwise from positive z-axis (which is in direction of generated magnetic field)\n",
    "alpha = np.array([n*2*np.pi/N for n in range(N)])\n",
    "\n",
    "#beta is an array that gives the magnetic field orientation of nth magnet\n",
    "beta = 2*alpha\n",
    "\n",
    "#gamma is an array that gives the angle from z axis to the jth test point  \n",
    "gamma = np.array([j*2*np.pi/numPoints for j in range(numPoints)])\n",
    "\n",
    "#DEFINING POSITION VECTORS\n",
    "\n",
    "#this creates a 2D array, n0\n",
    "#such that n0[i] gives the normalized position vector of the ith magnet in Mandhala\n",
    "x = np.zeros(N)\n",
    "y = np.sin(alpha)\n",
    "z = np.cos(alpha)\n",
    "\n",
    "n0 = np.vstack([x, y, z]).T\n",
    "\n",
    "#this creates a 2D array, P\n",
    "#such that P[j] gives the position vector of the jth test point\n",
    "x = frac*R*np.zeros(numPoints)\n",
    "y = frac*R*np.sin(gamma)\n",
    "z = frac*R*np.cos(gamma)\n",
    "\n",
    "P = np.vstack([x, y, z]).T"
   ]
  },
  {
   "cell_type": "markdown",
   "metadata": {},
   "source": [
    "**Cell below defines a function which will evaluate the magnetic field difference at a certain point relative to the magnetic field you would expect if all magnets had the same magnetic moment equal to the average of all the magnetic moments of current arrangement**\n",
    "\n",
    ">*Inputs:*\n",
    "\n",
    ">`m` 1D array of the magnetic moments for current arrangement of magnets\n",
    "\n",
    ">`beta` 1D array with directions of magnetic moments for each magnet\n",
    "\n",
    ">`rV` 2D array such that `rV[i]` gives the position vector from 'point' to the ith magnet \n",
    "\n",
    ">*Output:*\n",
    "\n",
    ">A vector that gives difference of magnetic field at that point relative to magnetic field if all magnets had the same magnetic moment.\n",
    "\n",
    "The function to calculate the magnetic field difference is given below:\n",
    "\n",
    "$$ \\Delta \\vec{B} = \\frac{\\mu_0}{4\\pi} \\sum_{i=0}^{N-1} \\frac{3(\\Delta \\vec{m}_i \\cdot \\vec{n}_i) \\vec{n}_i - \\Delta \\vec{m}_i}{\\| \\vec{r}_i \\|^3} $$\n",
    "\n",
    "The cost function we are minimizing becomes the sum over all test point locations of the magnitude of this magnetic field difference.\n",
    "\n",
    "$$ \\textrm{cost function} = \\sum_\\textrm{test points} \\|\\Delta \\vec{B}\\|_\\textrm{point}$$"
   ]
  },
  {
   "cell_type": "code",
   "execution_count": 4,
   "metadata": {
    "collapsed": true
   },
   "outputs": [],
   "source": [
    "def calcDeltaB(m, beta, rV):\n",
    "    N = len(m)\n",
    "    #calculating m0, the average magnetic moment\n",
    "    m0 = np.mean(m)\n",
    "    \n",
    "    #mV gives 2D array that gives magnetic field vector for particular permutation of magnets\n",
    "    mV = np.array([m[i]*np.array([0, np.sin(beta[i]), np.cos(beta[i])]) for i in range(N)])\n",
    "    \n",
    "    #delta gives an array of the difference in magnetic field values of nth magnet with mean \n",
    "    delta = m - m0\n",
    "    #delmV gives a 2D array of the magnetic field difference from mean and direction of the nth magnet as the nth column\n",
    "    #x,y,z positions (relative to center of circle) as rows \n",
    "    delmV = np.array([delta[i]*np.array([0, np.sin(beta[i]), np.cos(beta[i])]) for i in range(N)])\n",
    "    \n",
    "    #rnorm finds the norm of rV\n",
    "    rnorm = np.array([np.linalg.norm(rV[i]) for i in range(N)])\n",
    "    #nV gives the n-vector to use for this point\n",
    "    nV = np.array([rV[i]/rnorm[i] for i in range(N)])\n",
    "    DeltaB = 10**(-7)*np.sum(np.array([(3*(np.dot(delmV[i], nV[i]) * nV[i]) - delmV[i])/(rnorm[i]**3) for i in range(N)]),0)\n",
    "    return DeltaB\n",
    "\n",
    "def calcB(m, beta, rV):\n",
    "    N = len(m)\n",
    "\n",
    "    #mV gives 2D array that gives magnetic field vector for particular permutation of magnets\n",
    "    mV = np.array([m[i]*np.array([0, np.sin(beta[i]), np.cos(beta[i])]) for i in range(N)])\n",
    "    \n",
    "    #rnorm finds the norm of rV\n",
    "    rnorm = np.array([np.linalg.norm(rV[i]) for i in range(N)])\n",
    "    #nV gives the n-vector to use for this point\n",
    "    nV = np.array([rV[i]/rnorm[i] for i in range(N)])\n",
    "    B = 10**(-7)*np.sum(np.array([(3*(np.dot(mV[i], nV[i]) * nV[i]) - mV[i])/(rnorm[i]**3) for i in range(N)]),0)\n",
    "    return B"
   ]
  },
  {
   "cell_type": "markdown",
   "metadata": {},
   "source": [
    "**Cell below goes through different permutations of magnet arrangements and saves the one with the lowest cost function**\n",
    "\n",
    "Here we are treating each magnet as a magnetic dipole, and the equation for the magnetic field of a magnetic dipole requires the magnetic moment. The magnetic dipole is given by the following formulat in terms of the magnetization of the magnet $M$ and its volume $V$:\n",
    "$$ \\vec{m} = \\vec{M} V$$\n",
    "\n",
    "The magnetization can be found if we know the residual flux density of the magnet, $B_r$.\n",
    "$$\\vec{M} = \\frac{\\vec{B}_r}{\\mu_0}$$\n",
    "\n",
    "K&J magnetics gives the maximum residual flux density for the N-52 magnets as 1.48 Teslas and surface field of 0.5461 Teslas for the magnets we use ([Large magnets](https://www.kjmagnetics.com/proddetail.asp?prod=BY088-N52) and [smaller magnets](https://www.kjmagnetics.com/proddetail.asp?prod=BX044-N52)).\n",
    "\n",
    "Since we measure the surface magnetic fields of each magnet,$B_\\textrm{surf}$, I propose using the following:\n",
    "$$B_r = \\frac{B_\\textrm{surf}}{0.5461} 1.48 = 2.71 B_\\textrm{surf}$$"
   ]
  },
  {
   "cell_type": "code",
   "execution_count": 5,
   "metadata": {},
   "outputs": [
    {
     "name": "stdout",
     "output_type": "stream",
     "text": [
      "Execution Time: 83.7636227607727  seconds\n",
      "Minimum Value: 0.000342591768654\n",
      "Permutation corresponding to the minimum value: (0, 2, 1, 3, 7, 5, 4, 6)\n"
     ]
    }
   ],
   "source": [
    "import time\n",
    "start = time.time()\n",
    "\n",
    "#keeps track of current best permutation choice\n",
    "p_min = np.zeros(N)\n",
    "#keeps track of current best minimum value of optimization function\n",
    "val_min = np.Infinity\n",
    "\n",
    "for p in permutations(range(numMagnets),N):\n",
    "    \n",
    "    #m gives an array of the magnetic moments for particular permutation of magnets being tested\n",
    "    m = 2.71*magnets.take(p)*V/(4*np.pi*10**(-7))\n",
    "    \n",
    "    #FINDING COST FUNCTION CONTRIBUTION FROM CENTER OF MANDHALA\n",
    "    #costV gives a column vector that provides contribution to cost function\n",
    "    costV = calcDeltaB(m, beta, R*n0)\n",
    "    \n",
    "    #val is the norm of the total cost function\n",
    "    val = np.linalg.norm(costV)\n",
    "    \n",
    "    #FINDING COST FUNCTION CONTRIBUTIONS FROM OTHER POINTS IN YZ PLANE NEAR CENTER\n",
    "    for point in P:\n",
    "        #this creates a 2D array, rV\n",
    "        #such that rV[i] gives the position vector from 'point' to the ith magnet\n",
    "        rV = np.array([(R*n0[i] - point) for i in range(N)])\n",
    "        costV = calcDeltaB(m, beta, rV)\n",
    "        val += np.linalg.norm(costV)\n",
    "    \n",
    "    if val < val_min:\n",
    "        val_min = val\n",
    "        p_min = p\n",
    "\n",
    "end = time.time()\n",
    "print(\"Execution Time:\", end - start, \" seconds\")        \n",
    "        \n",
    "print(\"Minimum Value:\", val_min)\n",
    "print(\"Permutation corresponding to the minimum value:\", p_min)"
   ]
  },
  {
   "cell_type": "markdown",
   "metadata": {},
   "source": [
    "**Cell below defines a function that will display information for inputted permutation of magnets**"
   ]
  },
  {
   "cell_type": "code",
   "execution_count": 6,
   "metadata": {
    "collapsed": true
   },
   "outputs": [],
   "source": [
    "def VisualizePermutation(p):\n",
    "    print(magnets.take(p))\n",
    "    m = 2.71*magnets.take(p)*V/(4*np.pi*10**(-7))\n",
    "    Bcenter = calcB(m, beta, R*n0)\n",
    "    print(\"Center Bz value: \", Bcenter[2])\n",
    "    \n",
    "    k = 0\n",
    "    Bxpoint = np.zeros(numPoints)\n",
    "    Bypoint = np.zeros(numPoints)\n",
    "    Bzpoint = np.zeros(numPoints)\n",
    "    for testPoint in P:\n",
    "        rV = np.array([(R*n0[i] - testPoint) for i in range(N)])\n",
    "        Bpoint= calcB(m, beta, rV)\n",
    "        Bxpoint[k] = Bpoint[0]\n",
    "        Bypoint[k] = Bpoint[1]\n",
    "        Bzpoint[k] = Bpoint[2]\n",
    "        k += 1\n",
    "\n",
    "    deltaBz = max(Bzpoint) - min(Bzpoint)\n",
    "    print(\"Range of Bz values over test points: \", deltaBz)\n",
    "\n",
    "    %matplotlib inline\n",
    "    plt.plot(gamma, Bzpoint, label = 'Bz')\n",
    "    plt.plot(gamma, Bypoint, label = 'By')\n",
    "    plt.plot(gamma, Bxpoint, label = 'Bx')\n",
    "    plt.legend()\n",
    "    plt.xlabel(\"Angle (Radians)\")\n",
    "    plt.ylabel(\"Magnetic Field Strength (Telsa)\")\n",
    "    plt.title(\"Magnetic Field Variation Around Center\")"
   ]
  },
  {
   "cell_type": "markdown",
   "metadata": {},
   "source": [
    "**Cells below are visualizing different permutations**"
   ]
  },
  {
   "cell_type": "code",
   "execution_count": 7,
   "metadata": {},
   "outputs": [
    {
     "name": "stdout",
     "output_type": "stream",
     "text": [
      "[ 0.41  0.41  0.42  0.41  0.41  0.42  0.4   0.42]\n",
      "Center Bz value:  0.341948468076\n",
      "Range of Bz values over test points:  0.00392322885272\n"
     ]
    },
    {
     "data": {
      "image/png": "[encoded data removed]",
      "text/plain": [
       "<matplotlib.figure.Figure at 0x7786748>"
      ]
     },
     "metadata": {},
     "output_type": "display_data"
    }
   ],
   "source": [
    "VisualizePermutation(p_min)"
   ]
  },
  {
   "cell_type": "code",
   "execution_count": 11,
   "metadata": {},
   "outputs": [
    {
     "name": "stdout",
     "output_type": "stream",
     "text": [
      "[ 0.41  0.42  0.4   0.42  0.41  0.41  0.42  0.41]\n",
      "Center Bz value:  0.341948468076\n",
      "Range of Bz values over test points:  0.00392322885272\n"
     ]
    },
    {
     "data": {
      "image/png": "[encoded data removed]",
      "text/plain": [
       "<matplotlib.figure.Figure at 0x816da58>"
      ]
     },
     "metadata": {},
     "output_type": "display_data"
    }
   ],
   "source": [
    "p = [0, 1, 4, 5, 2, 3, 6, 7]\n",
    "VisualizePermutation(p)"
   ]
  },
  {
   "cell_type": "markdown",
   "metadata": {},
   "source": [
    "**Possible future steps:**\n",
    "- This calculation over-estimates the magnetic field, because we are assuming the magnetic field contributed by each magnet is equal to a magnetic dipole with the same magnetic moment as the bar magnet centered at the center of each magnet.\n",
    "\n",
    "- It would be more accurate to break the bar magnet into cubic pieces of the same magnetization and treat each cube as a magnetic dipole. Since the magnetic moment of the bar magnet scales with the volume, breaking the 1-inch longer magnet into 4 1/4\"-cubes would reduce each cubes magnetic dipole moment by 4 and each cube's contribution to the field would be smaller than assumed here due to slightly increased distance from the center plane.\n",
    "\n",
    "- Could see if making such an adjustment to our model would more accurately predict the magnetic field we measure with the actual magnets (and allow us to more accurately optimize our magnet design)."
   ]
  },
  {
   "cell_type": "code",
   "execution_count": null,
   "metadata": {
    "collapsed": true
   },
   "outputs": [],
   "source": []
  }
 ],
 "metadata": {
  "kernelspec": {
   "display_name": "Python 3",
   "language": "python",
   "name": "python3"
  },
  "language_info": {
   "codemirror_mode": {
    "name": "ipython",
    "version": 3
   },
   "file_extension": ".py",
   "mimetype": "text/x-python",
   "name": "python",
   "nbconvert_exporter": "python",
   "pygments_lexer": "ipython3",
   "version": "3.6.1"
  }
 },
 "nbformat": 4,
 "nbformat_minor": 2
}

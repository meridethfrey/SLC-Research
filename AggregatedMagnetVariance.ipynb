{
  "nbformat": 4,
  "nbformat_minor": 0,
  "metadata": {
    "colab": {
      "name": "AggregatedMagnetVariance.ipynb",
      "provenance": [],
      "include_colab_link": true
    },
    "kernelspec": {
      "name": "python3",
      "display_name": "Python 3"
    }
  },
  "cells": [
    {
      "cell_type": "markdown",
      "metadata": {
        "id": "view-in-github",
        "colab_type": "text"
      },
      "source": [
        "<a href=\"https://colab.research.google.com/github/meridethfrey/SLC-Research/blob/master/AggregatedMagnetVariance.ipynb\" target=\"_parent\"><img src=\"https://colab.research.google.com/assets/colab-badge.svg\" alt=\"Open In Colab\"/></a>"
      ]
    },
    {
      "cell_type": "code",
      "metadata": {
        "id": "oRlE3NX1AhFb",
        "colab_type": "code",
        "colab": {}
      },
      "source": [
        "import numpy as np\n",
        "from itertools import permutations\n",
        "import matplotlib.pyplot as plt\n",
        "import time"
      ],
      "execution_count": null,
      "outputs": []
    },
    {
      "cell_type": "code",
      "metadata": {
        "id": "nmpSyazxBMC5",
        "colab_type": "code",
        "colab": {}
      },
      "source": [
        "#helper functions\n",
        "\n",
        "def calcDeltaB(m, beta, rV):\n",
        "    N = len(m)\n",
        "    #calculating m0, the average magnetic moment\n",
        "    m0 = np.mean(m)\n",
        "    \n",
        "    #mV gives 2D array that gives magnetic field vector for particular permutation of magnets\n",
        "    mV = np.array([m[i]*np.array([0, np.sin(beta[i]), np.cos(beta[i])]) for i in range(N)])\n",
        "    \n",
        "    #delta gives an array of the difference in magnetic field values of nth magnet with mean \n",
        "    delta = m - m0\n",
        "    #delmV gives a 2D array of the magnetic field difference from mean and direction of the nth magnet as the nth column\n",
        "    #x,y,z positions (relative to center of circle) as rows \n",
        "    delmV = np.array([delta[i]*np.array([0, np.sin(beta[i]), np.cos(beta[i])]) for i in range(N)])\n",
        "    \n",
        "    #rnorm finds the norm of rV\n",
        "    rnorm = np.array([np.linalg.norm(rV[i]) for i in range(N)])\n",
        "    #nV gives the n-vector to use for this point\n",
        "    nV = np.array([rV[i]/rnorm[i] for i in range(N)])\n",
        "    DeltaB = 10**(-7)*np.sum(np.array([(3*(np.dot(delmV[i], nV[i]) * nV[i]) - delmV[i])/(rnorm[i]**3) for i in range(N)]),0)\n",
        "    return DeltaB\n",
        "\n",
        "def calcB(m, beta, rV):\n",
        "    N = len(m)\n",
        "\n",
        "    #mV gives 2D array that gives magnetic field vector for particular permutation of magnets\n",
        "    mV = np.array([m[i]*np.array([0, np.sin(beta[i]), np.cos(beta[i])]) for i in range(N)])\n",
        "    \n",
        "    #rnorm finds the norm of rV\n",
        "    rnorm = np.array([np.linalg.norm(rV[i]) for i in range(N)])\n",
        "    #nV gives the n-vector to use for this point\n",
        "    nV = np.array([rV[i]/rnorm[i] for i in range(N)])\n",
        "    B = 10**(-7)*np.sum(np.array([(3*(np.dot(mV[i], nV[i]) * nV[i]) - mV[i])/(rnorm[i]**3) for i in range(N)]),0)\n",
        "    return B\n"
      ],
      "execution_count": null,
      "outputs": []
    },
    {
      "cell_type": "code",
      "metadata": {
        "id": "HZbO24RN42D4",
        "colab_type": "code",
        "colab": {}
      },
      "source": [
        "def permutation_calculator(width_factor):\n",
        "    #generate magnets\n",
        "    N = 8\n",
        "    numMagnets = 8\n",
        "    R = 0.0145\n",
        "    V = (0.25**2*1)*(0.25**3)\n",
        "    numPoints = 10\n",
        "    frac = 0.10\n",
        "    magnets_vals = np.array([.41, .42, .41, .41, .40, .42, .42, .41])\n",
        "    mean = np.average(magnets_vals)\n",
        "    standard_dev = np.std(magnets_vals)\n",
        "    magnets = np.empty(numMagnets)\n",
        "    normal_distribution = np.random.normal(mean,(width_factor * standard_dev))\n",
        "    for i in range(8):\n",
        "        magnets[i] = np.random.normal(mean,(width_factor * standard_dev))\n",
        "    magnets = np.sort(magnets)\n",
        "    #setup arrays\n",
        "    alpha = np.array([n*2*np.pi/N for n in range(N)])\n",
        "    beta = 2*alpha \n",
        "    gamma = np.array([j*2*np.pi/numPoints for j in range(numPoints)])\n",
        "    x = np.zeros(N)\n",
        "    y = np.sin(alpha)\n",
        "    z = np.cos(alpha)\n",
        "    n0 = np.vstack([x, y, z]).T\n",
        "    x = frac*R*np.zeros(numPoints)\n",
        "    y = frac*R*np.sin(gamma)\n",
        "    z = frac*R*np.cos(gamma)\n",
        "    P = np.vstack([x, y, z]).T\n",
        "    #test permutations\n",
        "    start = time.time()\n",
        "    p_min = np.zeros(N)\n",
        "    val_min = np.Infinity\n",
        "    p_max = np.zeros(N)\n",
        "    val_max = 0\n",
        "    for p in permutations(range(numMagnets),N):\n",
        "        m = 2.71*magnets.take(p)*V/(4*np.pi*10**(-7))\n",
        "        costV = calcDeltaB(m, beta, R*n0)\n",
        "        val = np.linalg.norm(costV)\n",
        "        for point in P:\n",
        "            rV = np.array([(R*n0[i] - point) for i in range(N)])\n",
        "            costV = calcDeltaB(m, beta, rV)\n",
        "            val += np.linalg.norm(costV)        \n",
        "        if val < val_min:\n",
        "            val_min = val\n",
        "            p_min = p\n",
        "        if val >= val_max:\n",
        "            val_max = val\n",
        "            p_max = p\n",
        "    end = time.time()\n",
        "    val1, val2 = val_min/mean, val_max/mean\n",
        "    return val1, val2\n",
        "\n",
        "\n",
        "\n"
      ],
      "execution_count": null,
      "outputs": []
    },
    {
      "cell_type": "code",
      "metadata": {
        "id": "H1AD4OpaGuJN",
        "colab_type": "code",
        "colab": {}
      },
      "source": [
        "def plot_data(min_vals, max_vals, sd):\n",
        "    %matplotlib inline\n",
        "    plt.plot(sd, min_vals, 'bo', label = 'min')\n",
        "    plt.plot(sd, max_vals, 'ro', label = 'max')\n",
        "    plt.legend()\n",
        "    plt.xlabel(\"Standard Deviation\")\n",
        "    plt.ylabel(\"General Value (unprocessed)\")\n",
        "    plt.title(\"Divergence of values as standard deviation increases\")\n",
        "\n",
        "def process_data(vals):\n",
        "    return true\n"
      ],
      "execution_count": null,
      "outputs": []
    },
    {
      "cell_type": "markdown",
      "metadata": {
        "id": "UJQdgt7vG8sL",
        "colab_type": "text"
      },
      "source": [
        "The box below should run the whole program"
      ]
    },
    {
      "cell_type": "code",
      "metadata": {
        "id": "rUW31FBYCW4X",
        "colab_type": "code",
        "colab": {
          "base_uri": "https://localhost:8080/",
          "height": 414
        },
        "outputId": "d67f7348-dd96-4306-aa5f-36c9bc6511e8"
      },
      "source": [
        "#Number of Points to Generate\n",
        "NumPts = 16\n",
        "#Number of samples to take to generate average\n",
        "NumSample = 10\n",
        "#starting multiplicative factor for standard deviation\n",
        "current_width = 0\n",
        "#change in factor between each calculation point\n",
        "delta = .1 \n",
        "\n",
        "\n",
        "#setup arrays to pull data from later\n",
        "sd = np.array([])\n",
        "min_vals = np.array([])\n",
        "max_vals = np.array([])\n",
        "\n",
        "for p in range(NumPts):\n",
        "    sub_min, sub_max = 0, 0\n",
        "    for q in range(NumSample):\n",
        "        #print(p, \",\", q)\n",
        "        a, b = permutation_calculator(current_width) \n",
        "        sub_min = sub_min + a\n",
        "        sub_max = sub_max + b\n",
        "    min = sub_min / NumSample\n",
        "    max = sub_max / NumSample\n",
        "    sd = np.append(sd, current_width)\n",
        "    min_vals = np.append(min_vals, min)\n",
        "    max_vals = np.append(max_vals, max)\n",
        "    current_width = current_width + delta\n",
        "print(\"minimum values:\", min_vals)\n",
        "print(\"maximum values:\", max_vals)\n",
        "print(\"Standard Deviation:\", sd)\n",
        "plot_data(min_vals, max_vals, sd)\n",
        "\n",
        "        "
      ],
      "execution_count": null,
      "outputs": [
        {
          "output_type": "stream",
          "text": [
            "minimum values: [0.         0.4019687  1.03139249 1.21292136 1.69579167 2.2667902\n",
            " 1.6145068  2.19575254 3.30433308 2.82417255 4.44034375 3.79266059\n",
            " 5.69819533 4.59768392 5.08995352 7.32000054]\n",
            "maximum values: [ 0.          3.28576079  5.65514412  9.24193341 12.03633358 12.76144087\n",
            " 18.53320013 22.52068213 24.30092468 27.52520703 32.88594213 34.64736594\n",
            " 38.70848622 32.49756309 45.41585885 45.45129691]\n",
            "Standard Deviation: [0.  0.1 0.2 0.3 0.4 0.5 0.6 0.7 0.8 0.9 1.  1.1 1.2 1.3 1.4 1.5]\n"
          ],
          "name": "stdout"
        },
        {
          "output_type": "display_data",
          "data": {
            "image/png": "[encoded data removed]",
            "text/plain": [
              "<Figure size 432x288 with 1 Axes>"
            ]
          },
          "metadata": {
            "tags": [],
            "needs_background": "light"
          }
        }
      ]
    }
  ]
}
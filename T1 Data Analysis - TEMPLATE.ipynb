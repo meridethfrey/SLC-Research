{
 "cells": [
  {
   "cell_type": "code",
   "execution_count": 3,
   "metadata": {
    "collapsed": true
   },
   "outputs": [],
   "source": [
    "import numpy as np\n",
    "import matplotlib.pyplot as plt\n",
    "import seaborn as sns\n",
    "from scipy.io import wavfile as wav\n",
    "from scipy.fftpack import fft\n",
    "%matplotlib  inline"
   ]
  },
  {
   "cell_type": "code",
   "execution_count": 7,
   "metadata": {
    "scrolled": true
   },
   "outputs": [
    {
     "ename": "SyntaxError",
     "evalue": "invalid syntax (<ipython-input-7-05f4fb8163fa>, line 10)",
     "output_type": "error",
     "traceback": [
      "\u001b[1;36m  File \u001b[1;32m\"<ipython-input-7-05f4fb8163fa>\"\u001b[1;36m, line \u001b[1;32m10\u001b[0m\n\u001b[1;33m    perrB = np.sqrt(np.diag(pcovB))\u001b[0m\n\u001b[1;37m          ^\u001b[0m\n\u001b[1;31mSyntaxError\u001b[0m\u001b[1;31m:\u001b[0m invalid syntax\n"
     ]
    }
   ],
   "source": [
    "#tauValues should correspond to the tau times set by the data collector.\n",
    "tauValues = [] #input data collected here in milliseconds\n",
    "maxYValues = [] #input amplitude data here, for each tau value used above\n",
    "\n",
    "from scipy.optimize import curve_fit\n",
    "def fitfunc(x, p1, p2):\n",
    "  return -2 * p1 * np.exp(-x/p2) + p1\n",
    "#replace variables in p0 below\n",
    "poptB, pcovB = curve_fit(fitfunc, tauValues, maxYValues, p0=(#Maximum Amplitude Estimate, #T1 Estimate))\n",
    "perrB = np.sqrt(np.diag(pcovB))\n",
    "print(\"poptB (p1, p2): \", poptB)\n",
    "print(\"perrB (p1, p2): \", perrB)"
   ]
  },
  {
   "cell_type": "code",
   "execution_count": 6,
   "metadata": {},
   "outputs": [
    {
     "ename": "NameError",
     "evalue": "name 'tauValues' is not defined",
     "output_type": "error",
     "traceback": [
      "\u001b[1;31m---------------------------------------------------------------------------\u001b[0m",
      "\u001b[1;31mNameError\u001b[0m                                 Traceback (most recent call last)",
      "\u001b[1;32m<ipython-input-6-14c35b5ee97d>\u001b[0m in \u001b[0;36m<module>\u001b[1;34m()\u001b[0m\n\u001b[0;32m      1\u001b[0m \u001b[1;33m\u001b[0m\u001b[0m\n\u001b[1;32m----> 2\u001b[1;33m \u001b[0mfitData\u001b[0m \u001b[1;33m=\u001b[0m \u001b[1;33m[\u001b[0m\u001b[0mfitfunc\u001b[0m\u001b[1;33m(\u001b[0m\u001b[0mtauValues\u001b[0m\u001b[1;33m[\u001b[0m\u001b[0mj\u001b[0m\u001b[1;33m]\u001b[0m\u001b[1;33m,\u001b[0m \u001b[0mpoptB\u001b[0m\u001b[1;33m[\u001b[0m\u001b[1;36m0\u001b[0m\u001b[1;33m]\u001b[0m\u001b[1;33m,\u001b[0m \u001b[0mpoptB\u001b[0m\u001b[1;33m[\u001b[0m\u001b[1;36m1\u001b[0m\u001b[1;33m]\u001b[0m\u001b[1;33m)\u001b[0m \u001b[1;32mfor\u001b[0m \u001b[0mj\u001b[0m \u001b[1;32min\u001b[0m \u001b[0mrange\u001b[0m\u001b[1;33m(\u001b[0m\u001b[0mlen\u001b[0m\u001b[1;33m(\u001b[0m\u001b[0mtauValues\u001b[0m\u001b[1;33m)\u001b[0m\u001b[1;33m)\u001b[0m\u001b[1;33m]\u001b[0m\u001b[1;33m\u001b[0m\u001b[0m\n\u001b[0m\u001b[0;32m      3\u001b[0m \u001b[0mplt\u001b[0m\u001b[1;33m.\u001b[0m\u001b[0mscatter\u001b[0m\u001b[1;33m(\u001b[0m\u001b[0mtauValues\u001b[0m\u001b[1;33m,\u001b[0m \u001b[0mmaxYValues\u001b[0m\u001b[1;33m)\u001b[0m\u001b[1;33m\u001b[0m\u001b[0m\n\u001b[0;32m      4\u001b[0m \u001b[0mplt\u001b[0m\u001b[1;33m.\u001b[0m\u001b[0mxlabel\u001b[0m\u001b[1;33m(\u001b[0m\u001b[1;34m'Tau'\u001b[0m\u001b[1;33m)\u001b[0m\u001b[1;33m\u001b[0m\u001b[0m\n\u001b[0;32m      5\u001b[0m \u001b[0mplt\u001b[0m\u001b[1;33m.\u001b[0m\u001b[0mylabel\u001b[0m\u001b[1;33m(\u001b[0m\u001b[1;34m'Voltage(V)'\u001b[0m\u001b[1;33m)\u001b[0m\u001b[1;33m\u001b[0m\u001b[0m\n",
      "\u001b[1;31mNameError\u001b[0m: name 'tauValues' is not defined"
     ]
    }
   ],
   "source": [
    "\n",
    "fitData = [fitfunc(tauValues[j], poptB[0], poptB[1]) for j in range(len(tauValues))]\n",
    "plt.scatter(tauValues, maxYValues)\n",
    "plt.xlabel('Tau')\n",
    "plt.ylabel('Voltage(V)')\n",
    "#enter p2 output from poptB array above +/- p2 output from perrB array above following the '#'s' in the line below\n",
    "#as an example: ('Fits with T1 = 68 +/- 1 ms')\n",
    "plt.title('Fits with T1 = #p2opt +/- #p2err ms')\n",
    "plt.plot(tauValues, maxYValues,'.', label = 'T1 Peaks')\n",
    "plt.plot(tauValues, fitData, label = 'Fit to Data')\n",
    "plt.legend(loc = 'upper center')"
   ]
  },
  {
   "cell_type": "code",
   "execution_count": null,
   "metadata": {
    "collapsed": true
   },
   "outputs": [],
   "source": []
  }
 ],
 "metadata": {
  "kernelspec": {
   "display_name": "Python 3",
   "language": "python",
   "name": "python3"
  },
  "language_info": {
   "codemirror_mode": {
    "name": "ipython",
    "version": 3
   },
   "file_extension": ".py",
   "mimetype": "text/x-python",
   "name": "python",
   "nbconvert_exporter": "python",
   "pygments_lexer": "ipython3",
   "version": "3.6.1"
  }
 },
 "nbformat": 4,
 "nbformat_minor": 2
}
